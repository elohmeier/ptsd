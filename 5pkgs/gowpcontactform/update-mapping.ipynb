{
 "cells": [
  {
   "cell_type": "code",
   "execution_count": 1,
   "id": "27ace255-6543-4a27-8280-febfd27e5313",
   "metadata": {},
   "outputs": [],
   "source": [
    "import mysql.connector\n",
    "import re\n",
    "import sshtunnel"
   ]
  },
  {
   "cell_type": "code",
   "execution_count": 2,
   "id": "58ce0b9b-8a08-4dcf-9720-a01a28d0cf34",
   "metadata": {},
   "outputs": [],
   "source": [
    "with sshtunnel.open_tunnel(\n",
    "    ssh_address_or_host=(\"htz3.host.fraam.de\", 1022),\n",
    "    remote_bind_address=(\"192.168.100.15\", 22),\n",
    "    ssh_username=\"root\",\n",
    ") as tun_htz3:\n",
    "\n",
    "    with sshtunnel.open_tunnel(\n",
    "        ssh_address_or_host=(\"localhost\", tun_htz3.local_bind_port),\n",
    "        remote_bind_address=(\"127.0.0.1\", 3306),\n",
    "        ssh_username=\"root\",\n",
    "    ) as tun_wpjail:\n",
    "\n",
    "        with mysql.connector.connect(\n",
    "            user=\"root\",\n",
    "            host=\"localhost\",\n",
    "            database=\"wordpress\",\n",
    "            port=tun_wpjail.local_bind_port,\n",
    "        ) as conn:\n",
    "\n",
    "            with conn.cursor() as cursor:\n",
    "                cursor.execute(\n",
    "                    \"select ID, post_title, post_content from wp_posts where post_type = 'wpcf7_contact_form'\"\n",
    "                )\n",
    "                data = cursor.fetchall()"
   ]
  },
  {
   "cell_type": "code",
   "execution_count": 3,
   "id": "7e1bf75b-2511-4979-ae14-dde64b91f326",
   "metadata": {},
   "outputs": [
    {
     "data": {
      "text/plain": [
       "[(11, 'Contact form - Innovation', 'earl.kuehne@fraam.de'),\n",
       " (2328,\n",
       "  'Contact form - Transformation - Kulturwandel',\n",
       "  'nicol.huckfeldt@fraam.de'),\n",
       " (2329,\n",
       "  'Contact form - Transformation - Digitale Kanzlei',\n",
       "  'susanne.halmburger@fraam.de'),\n",
       " (2330, 'Contact form - Prozesse', 'klaus.stammerjohann@fraam.de'),\n",
       " (2331, 'Contact form - Technologie', 'enno.richter@fraam.de'),\n",
       " (2332, 'Contact form - Pragmatic Agile', 'earl.kuehne@fraam.de')]"
      ]
     },
     "execution_count": 3,
     "metadata": {},
     "output_type": "execute_result"
    }
   ],
   "source": [
    "parsed = [\n",
    "    (d[0], d[1], re.search(r\"wordpress@fraam.de\\n(.+)\", d[2]).group(1))\n",
    "    for d in data\n",
    "    if \"wordpress@fraam.de\" in d[2]\n",
    "]\n",
    "parsed"
   ]
  },
  {
   "cell_type": "code",
   "execution_count": 4,
   "id": "2c32e563-9695-4fde-bb52-5d42eb5db8fe",
   "metadata": {},
   "outputs": [
    {
     "name": "stdout",
     "output_type": "stream",
     "text": [
      "package main\n",
      "\n",
      "func GetRcpts() map[int]string {\n",
      "\treturn map[int]string{\n",
      "\t\t11: \"earl.kuehne@fraam.de\",\n",
      "\t\t2328: \"nicol.huckfeldt@fraam.de\",\n",
      "\t\t2329: \"susanne.halmburger@fraam.de\",\n",
      "\t\t2330: \"klaus.stammerjohann@fraam.de\",\n",
      "\t\t2331: \"enno.richter@fraam.de\",\n",
      "\t\t2332: \"earl.kuehne@fraam.de\",\n",
      "\t}\n",
      "}\n"
     ]
    }
   ],
   "source": [
    "gomap = (\n",
    "    \"\"\"package main\n",
    "\n",
    "func GetRcpts() map[int]string {\n",
    "\\treturn map[int]string{\\n\"\"\"\n",
    "    + \"\\n\".join([f'\\t\\t{x[0]}: \"{x[2]}\",' for x in parsed])\n",
    "    + \"\\n\\t}\\n}\"\n",
    ")\n",
    "print(gomap)"
   ]
  },
  {
   "cell_type": "code",
   "execution_count": 5,
   "id": "a11cca2a-b456-4eba-915e-1235aa7cc031",
   "metadata": {},
   "outputs": [],
   "source": [
    "with open(\"rcpts.go\", \"w\") as f:\n",
    "    f.write(gomap)"
   ]
  }
 ],
 "metadata": {
  "kernelspec": {
   "display_name": "Python 3",
   "language": "python",
   "name": "python3"
  },
  "language_info": {
   "codemirror_mode": {
    "name": "ipython",
    "version": 3
   },
   "file_extension": ".py",
   "mimetype": "text/x-python",
   "name": "python",
   "nbconvert_exporter": "python",
   "pygments_lexer": "ipython3",
   "version": "3.8.9"
  }
 },
 "nbformat": 4,
 "nbformat_minor": 5
}
